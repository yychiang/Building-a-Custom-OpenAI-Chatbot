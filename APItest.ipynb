{
 "cells": [
  {
   "cell_type": "markdown",
   "id": "0527a702",
   "metadata": {},
   "source": [
    "# Build a Custom OpenAI Chatbot with ML-Driven Prompt Engineering\n",
    "\n",
    "The code below is designed to run as-is with one exception: **[you must set up the OpenAI API key in your system](https://platform.openai.com/docs/quickstart?context=python)**. \n",
    "\n",
    "Then, to execute each code cell, click on it and press `Shift` + `Enter` on your keyboard."
   ]
  },
  {
   "cell_type": "markdown",
   "id": "b85cf3ba",
   "metadata": {},
   "source": [
    "## Step 0: Inspecting Non-Customized Results\n",
    "\n",
    "Before we perform any prompt engineering, **let's ask the OpenAI model some questions and see how it answers**.\n",
    "\n",
    "(If you encounter an `AuthenticationError` when running this code, make sure that you have set up a valid API key to the cell above and executed it.)"
   ]
  },
  {
   "cell_type": "raw",
   "id": "0890a5aa",
   "metadata": {},
   "source": [
    "!echo %OPENAI_API_KEY%"
   ]
  },
  {
   "cell_type": "code",
   "execution_count": 1,
   "id": "316db877",
   "metadata": {},
   "outputs": [
    {
     "name": "stdout",
     "output_type": "stream",
     "text": [
      "Name: openai\n",
      "Version: 1.12.0\n",
      "Summary: The official Python library for the openai API\n",
      "Home-page: \n",
      "Author: \n",
      "Author-email: OpenAI <support@openai.com>\n",
      "License: \n",
      "Location: C:\\Users\\yychiang\\anaconda3\\Lib\\site-packages\n",
      "Requires: anyio, distro, httpx, pydantic, sniffio, tqdm, typing-extensions\n",
      "Required-by: \n"
     ]
    }
   ],
   "source": [
    "!pip3 show openai"
   ]
  },
  {
   "cell_type": "code",
   "execution_count": 2,
   "id": "f49bc637",
   "metadata": {},
   "outputs": [
    {
     "name": "stdout",
     "output_type": "stream",
     "text": [
      "This is a test"
     ]
    }
   ],
   "source": [
    "from openai import OpenAI\n",
    "\n",
    "client = OpenAI()\n",
    "\n",
    "stream = client.chat.completions.create(\n",
    "    model=\"gpt-3.5-turbo\",\n",
    "    messages=[{\"role\": \"user\", \"content\": \"Say this is a test\"}],\n",
    "    stream=True,\n",
    ")\n",
    "for chunk in stream:\n",
    "    if chunk.choices[0].delta.content is not None:\n",
    "        print(chunk.choices[0].delta.content, end=\"\")"
   ]
  },
  {
   "cell_type": "code",
   "execution_count": 3,
   "id": "1e54ca27",
   "metadata": {},
   "outputs": [
    {
     "name": "stdout",
     "output_type": "stream",
     "text": [
      "Russia's invasion of Ukraine began in February 2014 when Russian troops occupied Crimea, a region of Ukraine. This marked the start of a conflict that has continued since then, with ongoing fighting in Eastern Ukraine.\n"
     ]
    }
   ],
   "source": [
    "from openai import OpenAI\n",
    "client = OpenAI()\n",
    "\n",
    "completion = client.chat.completions.create(\n",
    "  model=\"gpt-3.5-turbo\",\n",
    "  messages=[\n",
    "    {\"role\": \"system\", \"content\": \"You are a helpful assistant.\"},\n",
    "    {\"role\": \"user\", \"content\": \"When did Russia invade Ukraine?\"}\n",
    "  ]\n",
    ")\n",
    "initial_ukraine_answer = completion.choices[0].message.content.strip()\n",
    "print(initial_ukraine_answer)"
   ]
  },
  {
   "cell_type": "code",
   "execution_count": 4,
   "id": "e63737d3",
   "metadata": {},
   "outputs": [
    {
     "name": "stdout",
     "output_type": "stream",
     "text": [
      "Twitter Inc. is a publicly traded company, meaning it is owned by shareholders who own stock in the company. The largest shareholders of Twitter Inc. are institutional investors such as mutual funds, pension funds, and hedge funds, as well as individual investors who own shares of the company. The co-founders and early investors of Twitter also own a significant portion of the company's stock.\n"
     ]
    }
   ],
   "source": [
    "from openai import OpenAI\n",
    "client = OpenAI()\n",
    "\n",
    "twitter_prompt = \"\"\"\n",
    "Question: \"Who owns Twitter?\"\n",
    "Answer:\n",
    "\"\"\"\n",
    "\n",
    "\n",
    "completion = client.chat.completions.create(\n",
    "  model=\"gpt-3.5-turbo\",\n",
    "  messages=[\n",
    "    #{\"role\": \"system\", \"content\": \"You are a helpful assistant.\"},\n",
    "    {\"role\": \"user\", \"content\": twitter_prompt}\n",
    "  ]\n",
    ")\n",
    "\n",
    "initial_twitter_answer = completion.choices[0].message.content.strip()\n",
    "print(initial_twitter_answer)\n"
   ]
  },
  {
   "cell_type": "markdown",
   "id": "7e05308c",
   "metadata": {},
   "source": [
    "The model is answering this way because the training data ends in 2021. **Our task will be to provide context from 2022 to help the model answer these questions correctly.**"
   ]
  },
  {
   "cell_type": "markdown",
   "id": "8acd280a",
   "metadata": {},
   "source": [
    "## Step 1: Prepare Dataset"
   ]
  },
  {
   "cell_type": "markdown",
   "id": "ba9603f6",
   "metadata": {},
   "source": [
    "### Loading and Wrangling Data"
   ]
  },
  {
   "cell_type": "markdown",
   "id": "1a3cd082",
   "metadata": {},
   "source": [
    "**The data should be loaded into a pandas `DataFrame` called `df` where each row represents a text sample, and there is only one column, `\"text\"`, which contains the raw text data.**\n",
    "\n",
    "In this particular case we are collecting data from [the Wikipedia page for the year 2022](https://en.wikipedia.org/wiki/2022) and performing some data wrangling to get it into the appropriate format. Don't worry too much about the details here, since data wrangling looks different for every dataset!"
   ]
  },
  {
   "cell_type": "code",
   "execution_count": 5,
   "id": "3d41a4d0",
   "metadata": {},
   "outputs": [
    {
     "data": {
      "text/html": [
       "<div>\n",
       "<style scoped>\n",
       "    .dataframe tbody tr th:only-of-type {\n",
       "        vertical-align: middle;\n",
       "    }\n",
       "\n",
       "    .dataframe tbody tr th {\n",
       "        vertical-align: top;\n",
       "    }\n",
       "\n",
       "    .dataframe thead th {\n",
       "        text-align: right;\n",
       "    }\n",
       "</style>\n",
       "<table border=\"1\" class=\"dataframe\">\n",
       "  <thead>\n",
       "    <tr style=\"text-align: right;\">\n",
       "      <th></th>\n",
       "      <th>text</th>\n",
       "    </tr>\n",
       "  </thead>\n",
       "  <tbody>\n",
       "    <tr>\n",
       "      <th>0</th>\n",
       "      <td>– 2022 (MMXXII) was a common year starting on...</td>\n",
       "    </tr>\n",
       "    <tr>\n",
       "      <th>1</th>\n",
       "      <td>– The year 2022 saw the removal of nearly all...</td>\n",
       "    </tr>\n",
       "    <tr>\n",
       "      <th>2</th>\n",
       "      <td>– 2022 was also dominated by wars and armed c...</td>\n",
       "    </tr>\n",
       "    <tr>\n",
       "      <th>9</th>\n",
       "      <td>January 1 – The Regional Comprehensive Econom...</td>\n",
       "    </tr>\n",
       "    <tr>\n",
       "      <th>10</th>\n",
       "      <td>January 2 – Abdalla Hamdok resigns as Prime Mi...</td>\n",
       "    </tr>\n",
       "    <tr>\n",
       "      <th>...</th>\n",
       "      <td>...</td>\n",
       "    </tr>\n",
       "    <tr>\n",
       "      <th>239</th>\n",
       "      <td>December 21–December 26 – A major winter storm...</td>\n",
       "    </tr>\n",
       "    <tr>\n",
       "      <th>240</th>\n",
       "      <td>December 24 – 2022 Fijian general election: Th...</td>\n",
       "    </tr>\n",
       "    <tr>\n",
       "      <th>241</th>\n",
       "      <td>December 29 – Brazilian football legend Pelé d...</td>\n",
       "    </tr>\n",
       "    <tr>\n",
       "      <th>242</th>\n",
       "      <td>December 31 – Former Pope Benedict XVI dies at...</td>\n",
       "    </tr>\n",
       "    <tr>\n",
       "      <th>246</th>\n",
       "      <td>December 7 – The world population was estimate...</td>\n",
       "    </tr>\n",
       "  </tbody>\n",
       "</table>\n",
       "<p>182 rows × 1 columns</p>\n",
       "</div>"
      ],
      "text/plain": [
       "                                                  text\n",
       "0     – 2022 (MMXXII) was a common year starting on...\n",
       "1     – The year 2022 saw the removal of nearly all...\n",
       "2     – 2022 was also dominated by wars and armed c...\n",
       "9     January 1 – The Regional Comprehensive Econom...\n",
       "10   January 2 – Abdalla Hamdok resigns as Prime Mi...\n",
       "..                                                 ...\n",
       "239  December 21–December 26 – A major winter storm...\n",
       "240  December 24 – 2022 Fijian general election: Th...\n",
       "241  December 29 – Brazilian football legend Pelé d...\n",
       "242  December 31 – Former Pope Benedict XVI dies at...\n",
       "246  December 7 – The world population was estimate...\n",
       "\n",
       "[182 rows x 1 columns]"
      ]
     },
     "execution_count": 5,
     "metadata": {},
     "output_type": "execute_result"
    }
   ],
   "source": [
    "from dateutil.parser import parse\n",
    "import pandas as pd\n",
    "import requests\n",
    "\n",
    "# Get the Wikipedia page for \"2022\" since OpenAI's models stop in 2021\n",
    "resp = requests.get(\"https://en.wikipedia.org/w/api.php?action=query&prop=extracts&exlimit=1&titles=2022&explaintext=1&formatversion=2&format=json\")\n",
    "\n",
    "# Load page text into a dataframe\n",
    "df = pd.DataFrame()\n",
    "df[\"text\"] = resp.json()[\"query\"][\"pages\"][0][\"extract\"].split(\"\\n\")\n",
    "\n",
    "# Clean up text to remove empty lines and headings\n",
    "df = df[(df[\"text\"].str.len() > 0) & (~df[\"text\"].str.startswith(\"==\"))]\n",
    "\n",
    "# In some cases dates are used as headings instead of being part of the\n",
    "# text sample; adjust so dated text samples start with dates\n",
    "prefix = \"\"\n",
    "for (i, row) in df.iterrows():\n",
    "    # If the row already has \" - \", it already has the needed date prefix\n",
    "    if \" – \" not in row[\"text\"]:\n",
    "        try:\n",
    "            # If the row's text is a date, set it as the new prefix\n",
    "            parse(row[\"text\"])\n",
    "            prefix = row[\"text\"]\n",
    "        except:\n",
    "            # If the row's text isn't a date, add the prefix\n",
    "            row[\"text\"] = prefix + \" – \" + row[\"text\"]\n",
    "df = df[df[\"text\"].str.contains(\" – \")]\n",
    "df"
   ]
  },
  {
   "cell_type": "code",
   "execution_count": 6,
   "id": "d9f70dc6",
   "metadata": {},
   "outputs": [
    {
     "data": {
      "text/plain": [
       "'January 2 – Abdalla Hamdok resigns as Prime Minister of Sudan amid deadly protests.'"
      ]
     },
     "execution_count": 6,
     "metadata": {},
     "output_type": "execute_result"
    }
   ],
   "source": [
    "df[\"text\"][10]"
   ]
  },
  {
   "cell_type": "markdown",
   "id": "07573bc2",
   "metadata": {},
   "source": [
    "### Generating Embeddings\n",
    "\n",
    "We'll use the `Embedding` tooling from OpenAI [documentation here](https://platform.openai.com/docs/guides/embeddings/embeddings) to create vectors representing each row of our custom dataset."
   ]
  },
  {
   "cell_type": "markdown",
   "id": "5b070f55",
   "metadata": {},
   "source": [
    "In order to avoid a `RateLimitError` we'll send our data in batches to the `Embedding.create` function."
   ]
  },
  {
   "cell_type": "code",
   "execution_count": 7,
   "id": "9005eaa1",
   "metadata": {},
   "outputs": [
    {
     "data": {
      "text/html": [
       "<div>\n",
       "<style scoped>\n",
       "    .dataframe tbody tr th:only-of-type {\n",
       "        vertical-align: middle;\n",
       "    }\n",
       "\n",
       "    .dataframe tbody tr th {\n",
       "        vertical-align: top;\n",
       "    }\n",
       "\n",
       "    .dataframe thead th {\n",
       "        text-align: right;\n",
       "    }\n",
       "</style>\n",
       "<table border=\"1\" class=\"dataframe\">\n",
       "  <thead>\n",
       "    <tr style=\"text-align: right;\">\n",
       "      <th></th>\n",
       "      <th>text</th>\n",
       "      <th>embeddings</th>\n",
       "    </tr>\n",
       "  </thead>\n",
       "  <tbody>\n",
       "    <tr>\n",
       "      <th>0</th>\n",
       "      <td>– 2022 (MMXXII) was a common year starting on...</td>\n",
       "      <td>[0.01483198069036007, -0.019463684409856796, 0...</td>\n",
       "    </tr>\n",
       "    <tr>\n",
       "      <th>1</th>\n",
       "      <td>– The year 2022 saw the removal of nearly all...</td>\n",
       "      <td>[-0.004621672909706831, 0.022132715210318565, ...</td>\n",
       "    </tr>\n",
       "    <tr>\n",
       "      <th>2</th>\n",
       "      <td>– 2022 was also dominated by wars and armed c...</td>\n",
       "      <td>[-0.055712491273880005, 0.008474607020616531, ...</td>\n",
       "    </tr>\n",
       "    <tr>\n",
       "      <th>9</th>\n",
       "      <td>January 1 – The Regional Comprehensive Econom...</td>\n",
       "      <td>[-0.036633022129535675, 0.017915261909365654, ...</td>\n",
       "    </tr>\n",
       "    <tr>\n",
       "      <th>10</th>\n",
       "      <td>January 2 – Abdalla Hamdok resigns as Prime Mi...</td>\n",
       "      <td>[0.027240121737122536, -0.024213440716266632, ...</td>\n",
       "    </tr>\n",
       "    <tr>\n",
       "      <th>...</th>\n",
       "      <td>...</td>\n",
       "      <td>...</td>\n",
       "    </tr>\n",
       "    <tr>\n",
       "      <th>239</th>\n",
       "      <td>December 21–December 26 – A major winter storm...</td>\n",
       "      <td>[-0.002059194026514888, 0.020098183304071426, ...</td>\n",
       "    </tr>\n",
       "    <tr>\n",
       "      <th>240</th>\n",
       "      <td>December 24 – 2022 Fijian general election: Th...</td>\n",
       "      <td>[0.027269190177321434, -0.0103622917085886, 0....</td>\n",
       "    </tr>\n",
       "    <tr>\n",
       "      <th>241</th>\n",
       "      <td>December 29 – Brazilian football legend Pelé d...</td>\n",
       "      <td>[0.04175658896565437, -0.005483540706336498, -...</td>\n",
       "    </tr>\n",
       "    <tr>\n",
       "      <th>242</th>\n",
       "      <td>December 31 – Former Pope Benedict XVI dies at...</td>\n",
       "      <td>[-0.011245762929320335, -0.03364294394850731, ...</td>\n",
       "    </tr>\n",
       "    <tr>\n",
       "      <th>246</th>\n",
       "      <td>December 7 – The world population was estimate...</td>\n",
       "      <td>[0.04368457570672035, 0.006768886465579271, 0....</td>\n",
       "    </tr>\n",
       "  </tbody>\n",
       "</table>\n",
       "<p>182 rows × 2 columns</p>\n",
       "</div>"
      ],
      "text/plain": [
       "                                                  text  \\\n",
       "0     – 2022 (MMXXII) was a common year starting on...   \n",
       "1     – The year 2022 saw the removal of nearly all...   \n",
       "2     – 2022 was also dominated by wars and armed c...   \n",
       "9     January 1 – The Regional Comprehensive Econom...   \n",
       "10   January 2 – Abdalla Hamdok resigns as Prime Mi...   \n",
       "..                                                 ...   \n",
       "239  December 21–December 26 – A major winter storm...   \n",
       "240  December 24 – 2022 Fijian general election: Th...   \n",
       "241  December 29 – Brazilian football legend Pelé d...   \n",
       "242  December 31 – Former Pope Benedict XVI dies at...   \n",
       "246  December 7 – The world population was estimate...   \n",
       "\n",
       "                                            embeddings  \n",
       "0    [0.01483198069036007, -0.019463684409856796, 0...  \n",
       "1    [-0.004621672909706831, 0.022132715210318565, ...  \n",
       "2    [-0.055712491273880005, 0.008474607020616531, ...  \n",
       "9    [-0.036633022129535675, 0.017915261909365654, ...  \n",
       "10   [0.027240121737122536, -0.024213440716266632, ...  \n",
       "..                                                 ...  \n",
       "239  [-0.002059194026514888, 0.020098183304071426, ...  \n",
       "240  [0.027269190177321434, -0.0103622917085886, 0....  \n",
       "241  [0.04175658896565437, -0.005483540706336498, -...  \n",
       "242  [-0.011245762929320335, -0.03364294394850731, ...  \n",
       "246  [0.04368457570672035, 0.006768886465579271, 0....  \n",
       "\n",
       "[182 rows x 2 columns]"
      ]
     },
     "execution_count": 7,
     "metadata": {},
     "output_type": "execute_result"
    }
   ],
   "source": [
    "from openai import OpenAI\n",
    "client = OpenAI()\n",
    "\n",
    "EMBEDDING_MODEL_NAME = \"text-embedding-3-small\"\n",
    "batch_size = 100\n",
    "embeddings = []\n",
    "for i in range(0, len(df), batch_size):\n",
    "    # Send text data to OpenAI model to get embeddings\n",
    "    response = client.embeddings.create(\n",
    "        input=df.iloc[i:i+batch_size][\"text\"].tolist(),\n",
    "        model=EMBEDDING_MODEL_NAME\n",
    "    )\n",
    "    \n",
    "    # Add embeddings to list\n",
    "    embeddings.extend([data.embedding for data in response.data])\n",
    "\n",
    "# Add embeddings list to dataframe\n",
    "df[\"embeddings\"] = embeddings\n",
    "df"
   ]
  },
  {
   "cell_type": "code",
   "execution_count": 8,
   "id": "a380c273",
   "metadata": {},
   "outputs": [],
   "source": [
    "df.to_csv(\"embeddings.csv\")"
   ]
  },
  {
   "cell_type": "code",
   "execution_count": 9,
   "id": "ca4d75ec",
   "metadata": {},
   "outputs": [
    {
     "name": "stderr",
     "output_type": "stream",
     "text": [
      "'ls' 不是內部或外部命令、可執行的程式或批次檔。\n"
     ]
    }
   ],
   "source": [
    "!ls\n",
    "\n",
    "#!dir # or this one in Windows system"
   ]
  },
  {
   "cell_type": "markdown",
   "id": "c35fc74c",
   "metadata": {},
   "source": [
    "If you want to stop the tutorial here and come back, you can reload `df` using this code (again adding your API key) rather than generating the embeddings again:"
   ]
  },
  {
   "cell_type": "code",
   "execution_count": 10,
   "id": "8c4dda93",
   "metadata": {},
   "outputs": [],
   "source": [
    "# import numpy as np\n",
    "# import pandas as pd\n",
    "# import openai\n",
    "# openai.api_key = \"YOUR API KEY\"\n",
    "# df = pd.read_csv(\"embeddings.csv\", index_col=0)\n",
    "# df[\"embeddings\"] = df[\"embeddings\"].apply(eval).apply(np.array)"
   ]
  },
  {
   "cell_type": "code",
   "execution_count": 11,
   "id": "621dc2d5",
   "metadata": {},
   "outputs": [
    {
     "data": {
      "text/html": [
       "<div>\n",
       "<style scoped>\n",
       "    .dataframe tbody tr th:only-of-type {\n",
       "        vertical-align: middle;\n",
       "    }\n",
       "\n",
       "    .dataframe tbody tr th {\n",
       "        vertical-align: top;\n",
       "    }\n",
       "\n",
       "    .dataframe thead th {\n",
       "        text-align: right;\n",
       "    }\n",
       "</style>\n",
       "<table border=\"1\" class=\"dataframe\">\n",
       "  <thead>\n",
       "    <tr style=\"text-align: right;\">\n",
       "      <th></th>\n",
       "      <th>text</th>\n",
       "      <th>embeddings</th>\n",
       "    </tr>\n",
       "  </thead>\n",
       "  <tbody>\n",
       "    <tr>\n",
       "      <th>0</th>\n",
       "      <td>– 2022 (MMXXII) was a common year starting on...</td>\n",
       "      <td>[0.01483198069036007, -0.019463684409856796, 0...</td>\n",
       "    </tr>\n",
       "    <tr>\n",
       "      <th>1</th>\n",
       "      <td>– The year 2022 saw the removal of nearly all...</td>\n",
       "      <td>[-0.004621672909706831, 0.022132715210318565, ...</td>\n",
       "    </tr>\n",
       "    <tr>\n",
       "      <th>2</th>\n",
       "      <td>– 2022 was also dominated by wars and armed c...</td>\n",
       "      <td>[-0.055712491273880005, 0.008474607020616531, ...</td>\n",
       "    </tr>\n",
       "    <tr>\n",
       "      <th>9</th>\n",
       "      <td>January 1 – The Regional Comprehensive Econom...</td>\n",
       "      <td>[-0.036633022129535675, 0.017915261909365654, ...</td>\n",
       "    </tr>\n",
       "    <tr>\n",
       "      <th>10</th>\n",
       "      <td>January 2 – Abdalla Hamdok resigns as Prime Mi...</td>\n",
       "      <td>[0.027240121737122536, -0.024213440716266632, ...</td>\n",
       "    </tr>\n",
       "    <tr>\n",
       "      <th>...</th>\n",
       "      <td>...</td>\n",
       "      <td>...</td>\n",
       "    </tr>\n",
       "    <tr>\n",
       "      <th>239</th>\n",
       "      <td>December 21–December 26 – A major winter storm...</td>\n",
       "      <td>[-0.002059194026514888, 0.020098183304071426, ...</td>\n",
       "    </tr>\n",
       "    <tr>\n",
       "      <th>240</th>\n",
       "      <td>December 24 – 2022 Fijian general election: Th...</td>\n",
       "      <td>[0.027269190177321434, -0.0103622917085886, 0....</td>\n",
       "    </tr>\n",
       "    <tr>\n",
       "      <th>241</th>\n",
       "      <td>December 29 – Brazilian football legend Pelé d...</td>\n",
       "      <td>[0.04175658896565437, -0.005483540706336498, -...</td>\n",
       "    </tr>\n",
       "    <tr>\n",
       "      <th>242</th>\n",
       "      <td>December 31 – Former Pope Benedict XVI dies at...</td>\n",
       "      <td>[-0.011245762929320335, -0.03364294394850731, ...</td>\n",
       "    </tr>\n",
       "    <tr>\n",
       "      <th>246</th>\n",
       "      <td>December 7 – The world population was estimate...</td>\n",
       "      <td>[0.04368457570672035, 0.006768886465579271, 0....</td>\n",
       "    </tr>\n",
       "  </tbody>\n",
       "</table>\n",
       "<p>182 rows × 2 columns</p>\n",
       "</div>"
      ],
      "text/plain": [
       "                                                  text  \\\n",
       "0     – 2022 (MMXXII) was a common year starting on...   \n",
       "1     – The year 2022 saw the removal of nearly all...   \n",
       "2     – 2022 was also dominated by wars and armed c...   \n",
       "9     January 1 – The Regional Comprehensive Econom...   \n",
       "10   January 2 – Abdalla Hamdok resigns as Prime Mi...   \n",
       "..                                                 ...   \n",
       "239  December 21–December 26 – A major winter storm...   \n",
       "240  December 24 – 2022 Fijian general election: Th...   \n",
       "241  December 29 – Brazilian football legend Pelé d...   \n",
       "242  December 31 – Former Pope Benedict XVI dies at...   \n",
       "246  December 7 – The world population was estimate...   \n",
       "\n",
       "                                            embeddings  \n",
       "0    [0.01483198069036007, -0.019463684409856796, 0...  \n",
       "1    [-0.004621672909706831, 0.022132715210318565, ...  \n",
       "2    [-0.055712491273880005, 0.008474607020616531, ...  \n",
       "9    [-0.036633022129535675, 0.017915261909365654, ...  \n",
       "10   [0.027240121737122536, -0.024213440716266632, ...  \n",
       "..                                                 ...  \n",
       "239  [-0.002059194026514888, 0.020098183304071426, ...  \n",
       "240  [0.027269190177321434, -0.0103622917085886, 0....  \n",
       "241  [0.04175658896565437, -0.005483540706336498, -...  \n",
       "242  [-0.011245762929320335, -0.03364294394850731, ...  \n",
       "246  [0.04368457570672035, 0.006768886465579271, 0....  \n",
       "\n",
       "[182 rows x 2 columns]"
      ]
     },
     "execution_count": 11,
     "metadata": {},
     "output_type": "execute_result"
    }
   ],
   "source": [
    "df"
   ]
  },
  {
   "cell_type": "markdown",
   "id": "387341fa",
   "metadata": {},
   "source": [
    "# Step 2: Create a Function that Finds Related Pieces of Text for a Given Question\n",
    "\n",
    "What we are implementing here is similar to a search engine or recommendation algorithm. We want to sort all of the rows of our dataset from least relevant to most relevant.\n",
    "\n",
    "This will use the embeddings that we generated previously in order to compare the vectorized version of our question to the vectorized versions of the rows of the dataset."
   ]
  },
  {
   "cell_type": "code",
   "execution_count": 12,
   "id": "0208892f",
   "metadata": {},
   "outputs": [],
   "source": [
    "#from openai.embeddings_utils import get_embedding, distances_from_embeddings\n",
    "\n",
    "\n",
    "from openai import OpenAI\n",
    "from scipy.spatial.distance import cosine\n",
    "client = OpenAI()\n",
    "EMBEDDING_MODEL_NAME = \"text-embedding-3-small\"\n",
    "\n",
    "\n",
    "def get_embedding(text, model=EMBEDDING_MODEL_NAME):\n",
    "    text = text.replace(\"\\n\", \" \")\n",
    "    return client.embeddings.create(input = [text], model=model).data[0].embedding\n",
    "\n",
    "\n",
    "def get_rows_sorted_by_relevance(question, df):\n",
    "    \"\"\"\n",
    "    Function that takes in a question string and a dataframe containing\n",
    "    rows of text and associated embeddings, and returns that dataframe\n",
    "    sorted from least to most relevant for that question\n",
    "    \"\"\"\n",
    "    \n",
    "    # Get embeddings for the question text\n",
    "    question_embeddings = get_embedding(question, model=EMBEDDING_MODEL_NAME)\n",
    "    \n",
    "    # Make a copy of the dataframe and add a \"distances\" column containing\n",
    "    # the cosine distances between each row's embeddings and the\n",
    "    # embeddings of the question\n",
    "    df_copy = df.copy()\n",
    "    df_copy[\"distances\"] = df_copy[\"embeddings\"].apply(lambda x: cosine(question_embeddings, x))\n",
    "    \n",
    "    \n",
    "    # Sort the copied dataframe by the distances and return it\n",
    "    # (shorter distance = more relevant so we sort in ascending order)\n",
    "    df_copy.sort_values(\"distances\", ascending=True, inplace=True)\n",
    "    return df_copy"
   ]
  },
  {
   "cell_type": "raw",
   "id": "53ed452d",
   "metadata": {},
   "source": [
    "q=\"Let's test that out for a couple different questions\"\n",
    "q_embeddings = get_embedding(q,model=EMBEDDING_MODEL_NAME)\n",
    "from scipy.spatial.distance import cosine\n",
    "df[\"distances\"] = df[\"embeddings\"].apply(lambda x: cosine(q_embeddings, x))"
   ]
  },
  {
   "cell_type": "markdown",
   "id": "24313e3a",
   "metadata": {},
   "source": [
    "Let's test that out for a couple different questions:"
   ]
  },
  {
   "cell_type": "code",
   "execution_count": 13,
   "id": "4fe0ff0f",
   "metadata": {},
   "outputs": [
    {
     "data": {
      "text/html": [
       "<div>\n",
       "<style scoped>\n",
       "    .dataframe tbody tr th:only-of-type {\n",
       "        vertical-align: middle;\n",
       "    }\n",
       "\n",
       "    .dataframe tbody tr th {\n",
       "        vertical-align: top;\n",
       "    }\n",
       "\n",
       "    .dataframe thead th {\n",
       "        text-align: right;\n",
       "    }\n",
       "</style>\n",
       "<table border=\"1\" class=\"dataframe\">\n",
       "  <thead>\n",
       "    <tr style=\"text-align: right;\">\n",
       "      <th></th>\n",
       "      <th>text</th>\n",
       "      <th>embeddings</th>\n",
       "      <th>distances</th>\n",
       "    </tr>\n",
       "  </thead>\n",
       "  <tbody>\n",
       "    <tr>\n",
       "      <th>51</th>\n",
       "      <td>March 2 – Russian invasion of Ukraine: Russia ...</td>\n",
       "      <td>[-0.02846437133848667, 0.0017101424746215343, ...</td>\n",
       "      <td>0.356966</td>\n",
       "    </tr>\n",
       "    <tr>\n",
       "      <th>194</th>\n",
       "      <td>October 8 – Russian invasion of Ukraine: An ex...</td>\n",
       "      <td>[-0.028934694826602936, 0.0471748411655426, 0....</td>\n",
       "      <td>0.358846</td>\n",
       "    </tr>\n",
       "    <tr>\n",
       "      <th>177</th>\n",
       "      <td>September 21 – Russian invasion of Ukraine: Fo...</td>\n",
       "      <td>[-0.05519803613424301, 0.018655989319086075, 0...</td>\n",
       "      <td>0.366684</td>\n",
       "    </tr>\n",
       "    <tr>\n",
       "      <th>49</th>\n",
       "      <td>March 1 – Russian invasion of Ukraine: In an e...</td>\n",
       "      <td>[-0.03092069923877716, 0.012936010956764221, 0...</td>\n",
       "      <td>0.390020</td>\n",
       "    </tr>\n",
       "    <tr>\n",
       "      <th>204</th>\n",
       "      <td>October 29 – Russian invasion of Ukraine: In r...</td>\n",
       "      <td>[-0.08261626213788986, 0.014528372325003147, 0...</td>\n",
       "      <td>0.390550</td>\n",
       "    </tr>\n",
       "    <tr>\n",
       "      <th>...</th>\n",
       "      <td>...</td>\n",
       "      <td>...</td>\n",
       "      <td>...</td>\n",
       "    </tr>\n",
       "    <tr>\n",
       "      <th>224</th>\n",
       "      <td>November 19–November 26 – The 2022 Central Ame...</td>\n",
       "      <td>[0.011738448403775692, -0.036297183483839035, ...</td>\n",
       "      <td>0.979640</td>\n",
       "    </tr>\n",
       "    <tr>\n",
       "      <th>213</th>\n",
       "      <td>November 1 – 2022 Danish general election: A b...</td>\n",
       "      <td>[-0.011684820055961609, -0.002833489328622818,...</td>\n",
       "      <td>0.983876</td>\n",
       "    </tr>\n",
       "    <tr>\n",
       "      <th>81</th>\n",
       "      <td>April 4 – The Intergovernmental Panel on Clima...</td>\n",
       "      <td>[0.042045507580041885, 0.007798945065587759, 0...</td>\n",
       "      <td>0.984768</td>\n",
       "    </tr>\n",
       "    <tr>\n",
       "      <th>242</th>\n",
       "      <td>December 31 – Former Pope Benedict XVI dies at...</td>\n",
       "      <td>[-0.011245762929320335, -0.03364294394850731, ...</td>\n",
       "      <td>0.995849</td>\n",
       "    </tr>\n",
       "    <tr>\n",
       "      <th>241</th>\n",
       "      <td>December 29 – Brazilian football legend Pelé d...</td>\n",
       "      <td>[0.04175658896565437, -0.005483540706336498, -...</td>\n",
       "      <td>1.041643</td>\n",
       "    </tr>\n",
       "  </tbody>\n",
       "</table>\n",
       "<p>182 rows × 3 columns</p>\n",
       "</div>"
      ],
      "text/plain": [
       "                                                  text  \\\n",
       "51   March 2 – Russian invasion of Ukraine: Russia ...   \n",
       "194  October 8 – Russian invasion of Ukraine: An ex...   \n",
       "177  September 21 – Russian invasion of Ukraine: Fo...   \n",
       "49   March 1 – Russian invasion of Ukraine: In an e...   \n",
       "204  October 29 – Russian invasion of Ukraine: In r...   \n",
       "..                                                 ...   \n",
       "224  November 19–November 26 – The 2022 Central Ame...   \n",
       "213  November 1 – 2022 Danish general election: A b...   \n",
       "81   April 4 – The Intergovernmental Panel on Clima...   \n",
       "242  December 31 – Former Pope Benedict XVI dies at...   \n",
       "241  December 29 – Brazilian football legend Pelé d...   \n",
       "\n",
       "                                            embeddings  distances  \n",
       "51   [-0.02846437133848667, 0.0017101424746215343, ...   0.356966  \n",
       "194  [-0.028934694826602936, 0.0471748411655426, 0....   0.358846  \n",
       "177  [-0.05519803613424301, 0.018655989319086075, 0...   0.366684  \n",
       "49   [-0.03092069923877716, 0.012936010956764221, 0...   0.390020  \n",
       "204  [-0.08261626213788986, 0.014528372325003147, 0...   0.390550  \n",
       "..                                                 ...        ...  \n",
       "224  [0.011738448403775692, -0.036297183483839035, ...   0.979640  \n",
       "213  [-0.011684820055961609, -0.002833489328622818,...   0.983876  \n",
       "81   [0.042045507580041885, 0.007798945065587759, 0...   0.984768  \n",
       "242  [-0.011245762929320335, -0.03364294394850731, ...   0.995849  \n",
       "241  [0.04175658896565437, -0.005483540706336498, -...   1.041643  \n",
       "\n",
       "[182 rows x 3 columns]"
      ]
     },
     "execution_count": 13,
     "metadata": {},
     "output_type": "execute_result"
    }
   ],
   "source": [
    "get_rows_sorted_by_relevance(\"When did Russia invade Ukraine?\", df)"
   ]
  },
  {
   "cell_type": "code",
   "execution_count": 14,
   "id": "66b371d5",
   "metadata": {},
   "outputs": [
    {
     "data": {
      "text/html": [
       "<div>\n",
       "<style scoped>\n",
       "    .dataframe tbody tr th:only-of-type {\n",
       "        vertical-align: middle;\n",
       "    }\n",
       "\n",
       "    .dataframe tbody tr th {\n",
       "        vertical-align: top;\n",
       "    }\n",
       "\n",
       "    .dataframe thead th {\n",
       "        text-align: right;\n",
       "    }\n",
       "</style>\n",
       "<table border=\"1\" class=\"dataframe\">\n",
       "  <thead>\n",
       "    <tr style=\"text-align: right;\">\n",
       "      <th></th>\n",
       "      <th>text</th>\n",
       "      <th>embeddings</th>\n",
       "      <th>distances</th>\n",
       "    </tr>\n",
       "  </thead>\n",
       "  <tbody>\n",
       "    <tr>\n",
       "      <th>199</th>\n",
       "      <td>October 28 – Elon Musk completes his $44 billi...</td>\n",
       "      <td>[-0.015506506897509098, -0.06498636305332184, ...</td>\n",
       "      <td>0.429940</td>\n",
       "    </tr>\n",
       "    <tr>\n",
       "      <th>97</th>\n",
       "      <td>April 25 – Elon Musk reaches an agreement to a...</td>\n",
       "      <td>[0.01243569515645504, -0.044628191739320755, -...</td>\n",
       "      <td>0.439272</td>\n",
       "    </tr>\n",
       "    <tr>\n",
       "      <th>217</th>\n",
       "      <td>November 11 – The cryptocurrency exchange FTX,...</td>\n",
       "      <td>[-0.04518360644578934, -0.025047961622476578, ...</td>\n",
       "      <td>0.764849</td>\n",
       "    </tr>\n",
       "    <tr>\n",
       "      <th>228</th>\n",
       "      <td>November 30 – OpenAI releases ChatGPT, an arti...</td>\n",
       "      <td>[0.0053804293274879456, 0.02005067467689514, 0...</td>\n",
       "      <td>0.851584</td>\n",
       "    </tr>\n",
       "    <tr>\n",
       "      <th>147</th>\n",
       "      <td>July 31 – Ayman al-Zawahiri, the Egyptian terr...</td>\n",
       "      <td>[0.0044547636061906815, -0.025621656328439713,...</td>\n",
       "      <td>0.853518</td>\n",
       "    </tr>\n",
       "    <tr>\n",
       "      <th>...</th>\n",
       "      <td>...</td>\n",
       "      <td>...</td>\n",
       "      <td>...</td>\n",
       "    </tr>\n",
       "    <tr>\n",
       "      <th>88</th>\n",
       "      <td>April 8 – Global food prices increase to their...</td>\n",
       "      <td>[-0.053561531007289886, 0.00931905210018158, 0...</td>\n",
       "      <td>1.005764</td>\n",
       "    </tr>\n",
       "    <tr>\n",
       "      <th>227</th>\n",
       "      <td>November 21 – A 5.6 earthquake strikes near Ci...</td>\n",
       "      <td>[-0.045198049396276474, 0.04281920567154884, 0...</td>\n",
       "      <td>1.013621</td>\n",
       "    </tr>\n",
       "    <tr>\n",
       "      <th>59</th>\n",
       "      <td>March 5 – Researchers in the Antarctic find En...</td>\n",
       "      <td>[0.031153880059719086, 0.026408296078443527, 0...</td>\n",
       "      <td>1.013955</td>\n",
       "    </tr>\n",
       "    <tr>\n",
       "      <th>224</th>\n",
       "      <td>November 19–November 26 – The 2022 Central Ame...</td>\n",
       "      <td>[0.011738448403775692, -0.036297183483839035, ...</td>\n",
       "      <td>1.020315</td>\n",
       "    </tr>\n",
       "    <tr>\n",
       "      <th>172</th>\n",
       "      <td>September 12 – September 2022 Armenia–Azerbaij...</td>\n",
       "      <td>[-0.029608990997076035, 0.015002027153968811, ...</td>\n",
       "      <td>1.029845</td>\n",
       "    </tr>\n",
       "  </tbody>\n",
       "</table>\n",
       "<p>182 rows × 3 columns</p>\n",
       "</div>"
      ],
      "text/plain": [
       "                                                  text  \\\n",
       "199  October 28 – Elon Musk completes his $44 billi...   \n",
       "97   April 25 – Elon Musk reaches an agreement to a...   \n",
       "217  November 11 – The cryptocurrency exchange FTX,...   \n",
       "228  November 30 – OpenAI releases ChatGPT, an arti...   \n",
       "147  July 31 – Ayman al-Zawahiri, the Egyptian terr...   \n",
       "..                                                 ...   \n",
       "88   April 8 – Global food prices increase to their...   \n",
       "227  November 21 – A 5.6 earthquake strikes near Ci...   \n",
       "59   March 5 – Researchers in the Antarctic find En...   \n",
       "224  November 19–November 26 – The 2022 Central Ame...   \n",
       "172  September 12 – September 2022 Armenia–Azerbaij...   \n",
       "\n",
       "                                            embeddings  distances  \n",
       "199  [-0.015506506897509098, -0.06498636305332184, ...   0.429940  \n",
       "97   [0.01243569515645504, -0.044628191739320755, -...   0.439272  \n",
       "217  [-0.04518360644578934, -0.025047961622476578, ...   0.764849  \n",
       "228  [0.0053804293274879456, 0.02005067467689514, 0...   0.851584  \n",
       "147  [0.0044547636061906815, -0.025621656328439713,...   0.853518  \n",
       "..                                                 ...        ...  \n",
       "88   [-0.053561531007289886, 0.00931905210018158, 0...   1.005764  \n",
       "227  [-0.045198049396276474, 0.04281920567154884, 0...   1.013621  \n",
       "59   [0.031153880059719086, 0.026408296078443527, 0...   1.013955  \n",
       "224  [0.011738448403775692, -0.036297183483839035, ...   1.020315  \n",
       "172  [-0.029608990997076035, 0.015002027153968811, ...   1.029845  \n",
       "\n",
       "[182 rows x 3 columns]"
      ]
     },
     "execution_count": 14,
     "metadata": {},
     "output_type": "execute_result"
    }
   ],
   "source": [
    "get_rows_sorted_by_relevance(\"Who owns Twitter?\", df)"
   ]
  },
  {
   "cell_type": "markdown",
   "id": "afe054f1",
   "metadata": {},
   "source": [
    "# Step 3: Create a Function that Composes a Text Prompt\n",
    "\n",
    "Building on that sorted list of rows, we're going to select the create a text prompt that provides context to a `Completion` model in order to help it answer a question. The outline of the prompt looks like this:"
   ]
  },
  {
   "cell_type": "markdown",
   "id": "409c2834",
   "metadata": {},
   "source": [
    "```\n",
    "Answer the question based on the context below, and if the\n",
    "question can't be answered based on the context, say \"I don't\n",
    "know\"\n",
    "\n",
    "Context:\n",
    "\n",
    "{context}\n",
    "\n",
    "---\n",
    "\n",
    "Question: {question}\n",
    "Answer:\n",
    "```"
   ]
  },
  {
   "cell_type": "markdown",
   "id": "6e723302",
   "metadata": {},
   "source": [
    "We want to fit as much of our dataset as possible into the \"context\" part of the prompt without exceeding the number of tokens allowed by the `Completion` model, which is currently 4,000. So we'll loop over the dataset, counting the tokens as we go, and stop when we hit the limit. Then we'll join that list of text data into a single string and add it to the prompt."
   ]
  },
  {
   "cell_type": "code",
   "execution_count": 15,
   "id": "4d1b4f61",
   "metadata": {},
   "outputs": [],
   "source": [
    "import tiktoken\n",
    "\n",
    "def create_prompt(question, df, max_token_count):\n",
    "    \"\"\"\n",
    "    Given a question and a dataframe containing rows of text and their\n",
    "    embeddings, return a text prompt to send to a Completion model\n",
    "    \"\"\"\n",
    "    # Create a tokenizer that is designed to align with our embeddings\n",
    "    tokenizer = tiktoken.get_encoding(\"cl100k_base\")\n",
    "    \n",
    "    # Count the number of tokens in the prompt template and question\n",
    "    prompt_template = \"\"\"\n",
    "Answer the question based on the context below, and if the question\n",
    "can't be answered based on the context, say \"I don't know\"\n",
    "\n",
    "Context: \n",
    "\n",
    "{}\n",
    "\n",
    "---\n",
    "\n",
    "Question: {}\n",
    "Answer:\"\"\"\n",
    "    \n",
    "    current_token_count = len(tokenizer.encode(prompt_template)) + \\\n",
    "                            len(tokenizer.encode(question))\n",
    "    \n",
    "    context = []\n",
    "    for text in get_rows_sorted_by_relevance(question, df)[\"text\"].values:\n",
    "        \n",
    "        # Increase the counter based on the number of tokens in this row\n",
    "        text_token_count = len(tokenizer.encode(text))\n",
    "        current_token_count += text_token_count\n",
    "        \n",
    "        # Add the row of text to the list if we haven't exceeded the max\n",
    "        if current_token_count <= max_token_count:\n",
    "            context.append(text)\n",
    "        else:\n",
    "            break\n",
    "\n",
    "    return prompt_template.format(\"\\n\\n###\\n\\n\".join(context), question)\n",
    "    "
   ]
  },
  {
   "cell_type": "markdown",
   "id": "68acc49b",
   "metadata": {},
   "source": [
    "Now let's test that out! We'll use a `max_token_count` below the actual limit just to keep the output shorter and more readable."
   ]
  },
  {
   "cell_type": "code",
   "execution_count": 16,
   "id": "b5889a47",
   "metadata": {},
   "outputs": [
    {
     "name": "stdout",
     "output_type": "stream",
     "text": [
      "\n",
      "Answer the question based on the context below, and if the question\n",
      "can't be answered based on the context, say \"I don't know\"\n",
      "\n",
      "Context: \n",
      "\n",
      "March 2 – Russian invasion of Ukraine: Russia captures its first large city, the Black Sea port of Kherson, as shelling intensifies across many parts of Ukraine, including civilian areas.\n",
      "\n",
      "###\n",
      "\n",
      "October 8 – Russian invasion of Ukraine: An explosion occurs on the Crimean Bridge connecting Crimea and Russia, killing three and causing a partial collapse of the only road bridge between the Crimean Peninsula and the Russian mainland. Two days later, retaliatory missile strikes are conducted by Russia across Ukraine, the most widespread since the start of the invasion, notably including attacks on Kyiv.\n",
      "\n",
      "---\n",
      "\n",
      "Question: When did Russia invade Ukraine?\n",
      "Answer:\n"
     ]
    }
   ],
   "source": [
    "print(create_prompt(\"When did Russia invade Ukraine?\", df, 200))"
   ]
  },
  {
   "cell_type": "code",
   "execution_count": 17,
   "id": "d820abb1",
   "metadata": {},
   "outputs": [
    {
     "name": "stdout",
     "output_type": "stream",
     "text": [
      "\n",
      "Answer the question based on the context below, and if the question\n",
      "can't be answered based on the context, say \"I don't know\"\n",
      "\n",
      "Context: \n",
      "\n",
      "October 28 – Elon Musk completes his $44 billion acquisition of Twitter.\n",
      "\n",
      "###\n",
      "\n",
      "April 25 – Elon Musk reaches an agreement to acquire the social media network Twitter (which he later rebrands as X) for $44 billion USD, which later closes in October.\n",
      "\n",
      "---\n",
      "\n",
      "Question: Who owns Twitter?\n",
      "Answer:\n"
     ]
    }
   ],
   "source": [
    "print(create_prompt(\"Who owns Twitter?\", df, 100))"
   ]
  },
  {
   "cell_type": "markdown",
   "id": "789e40d0",
   "metadata": {},
   "source": [
    "# Step 4: Create a Function that Answers a Question\n",
    "\n",
    "Our final step is to send that text prompt to a `Completion` model and parse the model output!"
   ]
  },
  {
   "cell_type": "code",
   "execution_count": 18,
   "id": "355dc641",
   "metadata": {},
   "outputs": [],
   "source": [
    "from openai import OpenAI\n",
    "client = OpenAI()\n",
    "\n",
    "\n",
    "COMPLETION_MODEL_NAME = \"gpt-3.5-turbo\"\n",
    "\n",
    "def answer_question(\n",
    "    question, df, max_prompt_tokens=1800, max_answer_tokens=150\n",
    "):\n",
    "    \"\"\"\n",
    "    Given a question, a dataframe containing rows of text, and a maximum\n",
    "    number of desired tokens in the prompt and response, return the\n",
    "    answer to the question according to an OpenAI Completion model\n",
    "    \n",
    "    If the model produces an error, return an empty string\n",
    "    \"\"\"\n",
    "    \n",
    "    prompt = create_prompt(question, df, max_prompt_tokens)\n",
    "    #print(prompt)\n",
    "    \n",
    "    try:\n",
    "        response = client.chat.completions.create(\n",
    "            model=COMPLETION_MODEL_NAME,\n",
    "            messages=[{\"role\": \"user\", \"content\": prompt}],\n",
    "            #stream = True\n",
    "            #max_tokens=max_answer_tokens\n",
    "        )\n",
    "        return response.choices[0].message.content.strip()\n",
    "    except Exception as e:\n",
    "        print(e)\n",
    "        return \"\"\n",
    "    \n",
    "        "
   ]
  },
  {
   "cell_type": "raw",
   "id": "0b14f5d4",
   "metadata": {},
   "source": [
    "    try:\n",
    "        response = client.chat.completions.create(\n",
    "            prompt=prompt,\n",
    "            model=COMPLETION_MODEL_NAME,\n",
    "            max_tokens=max_answer_tokens\n",
    "        )\n",
    "        return response[\"choices\"][0][\"text\"].strip()\n",
    "    except Exception as e:\n",
    "        print(e)\n",
    "        return \"\""
   ]
  },
  {
   "cell_type": "code",
   "execution_count": 19,
   "id": "ab75f4cd",
   "metadata": {},
   "outputs": [
    {
     "name": "stdout",
     "output_type": "stream",
     "text": [
      "2022年2月21日至2月24日俄羅斯入侵烏克蘭。\n"
     ]
    }
   ],
   "source": [
    "custom_ukraine_answer = answer_question(\"請用中文回答：When did Russia invade Ukraine?\", df)\n",
    "print(custom_ukraine_answer)"
   ]
  },
  {
   "cell_type": "code",
   "execution_count": 20,
   "id": "74b28d8f",
   "metadata": {},
   "outputs": [
    {
     "name": "stdout",
     "output_type": "stream",
     "text": [
      "Elon Musk擁有推特。\n"
     ]
    }
   ],
   "source": [
    "custom_twitter_answer = answer_question(\"請用中文回答：誰擁有推特?\", df)\n",
    "print(custom_twitter_answer)"
   ]
  },
  {
   "cell_type": "markdown",
   "id": "afa7b8a7",
   "metadata": {},
   "source": [
    "Below we compare answers with and without our custom prompt:"
   ]
  },
  {
   "cell_type": "code",
   "execution_count": 21,
   "id": "302b2b4b",
   "metadata": {},
   "outputs": [
    {
     "name": "stdout",
     "output_type": "stream",
     "text": [
      "\n",
      "When did Russia invade Ukraine?\n",
      "\n",
      "Original Answer: Russia's invasion of Ukraine began in February 2014 when Russian troops occupied Crimea, a region of Ukraine. This marked the start of a conflict that has continued since then, with ongoing fighting in Eastern Ukraine.\n",
      "\n",
      "Custom Answer:   2022年2月21日至2月24日俄羅斯入侵烏克蘭。\n",
      "\n",
      "Who owns Twitter?\n",
      "\n",
      "Original Answer: Twitter Inc. is a publicly traded company, meaning it is owned by shareholders who own stock in the company. The largest shareholders of Twitter Inc. are institutional investors such as mutual funds, pension funds, and hedge funds, as well as individual investors who own shares of the company. The co-founders and early investors of Twitter also own a significant portion of the company's stock.\n",
      "\n",
      "Custom Answer:   Elon Musk擁有推特。\n",
      "\n"
     ]
    }
   ],
   "source": [
    "print(f\"\"\"\n",
    "When did Russia invade Ukraine?\n",
    "\n",
    "Original Answer: {initial_ukraine_answer}\n",
    "\n",
    "Custom Answer:   {custom_ukraine_answer}\n",
    "\n",
    "Who owns Twitter?\n",
    "\n",
    "Original Answer: {initial_twitter_answer}\n",
    "\n",
    "Custom Answer:   {custom_twitter_answer}\n",
    "\"\"\")"
   ]
  },
  {
   "cell_type": "code",
   "execution_count": null,
   "id": "83449626",
   "metadata": {},
   "outputs": [],
   "source": []
  }
 ],
 "metadata": {
  "kernelspec": {
   "display_name": "Python 3 (ipykernel)",
   "language": "python",
   "name": "python3"
  },
  "language_info": {
   "codemirror_mode": {
    "name": "ipython",
    "version": 3
   },
   "file_extension": ".py",
   "mimetype": "text/x-python",
   "name": "python",
   "nbconvert_exporter": "python",
   "pygments_lexer": "ipython3",
   "version": "3.11.5"
  }
 },
 "nbformat": 4,
 "nbformat_minor": 5
}
